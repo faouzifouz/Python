{
 "cells": [
  {
   "cell_type": "markdown",
   "metadata": {},
   "source": [
    "# Conditions\n",
    "Pour écrire un bloc de code qui ne s'exécute que lorsqu'une condition est remplie, il faut utiliser le mot clé ```if```.\n",
    "\n",
    "Si tu veux éxécuter un autre bloc de code lorsque cette condition n'est pas remplie, tu dois utiliser le mot clé ```else```.\n",
    "\n",
    "Si tu veux rajouter d'autres blocs de code qui ne s'exécuteront que si une ou plusieurs autre(s) condition(s) est/sont remplie(s), tu peux utiliser le mot clé ```elif```."
   ]
  },
  {
   "cell_type": "code",
   "execution_count": null,
   "metadata": {},
   "outputs": [],
   "source": []
  },
  {
   "cell_type": "code",
   "execution_count": null,
   "metadata": {},
   "outputs": [],
   "source": []
  },
  {
   "cell_type": "markdown",
   "metadata": {},
   "source": [
    "Dans la cellule vierge ci-dessous, tu vas demander à l'utilisateur la promo BeCode dont il fait partie grâce à un input et le stocker dans une variable."
   ]
  },
  {
   "cell_type": "code",
   "execution_count": null,
   "metadata": {},
   "outputs": [],
   "source": []
  },
  {
   "cell_type": "markdown",
   "metadata": {},
   "source": [
    "Tu vas maintenant, dans cette autre cellule vierge ci-dessous, créer le code pour afficher à l'utilisateur qu'il a commencé la formation en septembre s'il a rentré \"Turing\" dans l'input, en janvier s'il a rentré \"Woods\", et enfin qu'il ne fait pas partie de BeCode Charleroi s'il a rentré quoi que ce soit d'autre."
   ]
  },
  {
   "cell_type": "code",
   "execution_count": null,
   "metadata": {},
   "outputs": [],
   "source": []
  }
 ],
 "metadata": {
  "kernelspec": {
   "display_name": "Python 3",
   "language": "python",
   "name": "python3"
  },
  "language_info": {
   "codemirror_mode": {
    "name": "ipython",
    "version": 3
   },
   "file_extension": ".py",
   "mimetype": "text/x-python",
   "name": "python",
   "nbconvert_exporter": "python",
   "pygments_lexer": "ipython3",
   "version": "3.7.3"
  }
 },
 "nbformat": 4,
 "nbformat_minor": 2
}
