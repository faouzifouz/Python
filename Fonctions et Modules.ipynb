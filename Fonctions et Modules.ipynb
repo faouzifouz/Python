{
 "cells": [
  {
   "cell_type": "markdown",
   "metadata": {},
   "source": [
    "# Fonctions et Modules\n",
    "\n",
    "Les Modules sont une sorte de bibliothèque qui une fois importées permet d'acceder à de nouvelles fonctions.\n",
    "Ils en existe beaucoup. \n",
    "Quelque exemple:\n",
    "\n",
    "* Module turtle : permet de realiser des dessins geometriques\n",
    "\n",
    "* random   : fonctions permettant de travailler avec des valeurs aléatoires\n",
    "\n",
    "* math     : toutes les fonctions utiles pour les opérations mathématiques (cosinus,sinus,exp,etc.)\n",
    "\n",
    "* sys      : fonctions systèmes\n",
    "\n",
    "* os       : fonctions permettant d'interagir avec le système d'exploitation\n",
    "\n",
    "* time     : fonctions permettant de travailler avec le temps\n",
    "\n",
    "* calendar : fonctions de calendrier\n",
    "\n",
    "* profile  : fonctions permettant d'analyser l'execution des fonctions\n"
   ]
  },
  {
   "cell_type": "markdown",
   "metadata": {},
   "source": [
    "## Module Random"
   ]
  },
  {
   "cell_type": "code",
   "execution_count": null,
   "metadata": {},
   "outputs": [],
   "source": []
  },
  {
   "cell_type": "markdown",
   "metadata": {},
   "source": [
    "#### Alors que remarque-t-on? Tout d'abord on importe un package avec les mots clé from et import , ensuite pour appeler une fonction précise, on passe par la hiérarchie suivante: from package.module import fonction  Si vous voulez importer toutes les fonctions d'un module, vous pouvez indiquer une étoile * qui signifie souvent en informatique \"TOUS\". "
   ]
  },
  {
   "cell_type": "markdown",
   "metadata": {},
   "source": [
    "Crée une liste (Pierre,Guy,Adri) et affiche un element au hasard"
   ]
  },
  {
   "cell_type": "code",
   "execution_count": null,
   "metadata": {},
   "outputs": [],
   "source": []
  },
  {
   "cell_type": "markdown",
   "metadata": {},
   "source": [
    "Mélange cette liste"
   ]
  },
  {
   "cell_type": "code",
   "execution_count": null,
   "metadata": {},
   "outputs": [],
   "source": []
  },
  {
   "cell_type": "markdown",
   "metadata": {},
   "source": [
    "## Module Turtle\n",
    "#### Le module turtle est un ensemble d'outils permettant de dessiner à l'aide d'instructions simples\n",
    "\n",
    "* forward(distance)Avancer d'une distance donnée\n",
    "*  backward(distance)\n",
    "* Reculer•up()Relever le crayon (pour pouvoir avancer sans dessiner)\n",
    "* down()Abaisser le crayon (pour pouvoir recommencer à dessiner)\n",
    "* color(couleur)Couleur peut être une chaîne prédéfinie ('red', 'blue', 'green', etc.)\n",
    "* left(angle)Tourner à gauche d'un angle donné (exprimé en degré)\n",
    "* right(angle)Tourner à droite\n",
    "* width(épaisseur)Choisir l'épaisseur du tracé"
   ]
  },
  {
   "cell_type": "code",
   "execution_count": null,
   "metadata": {},
   "outputs": [],
   "source": []
  },
  {
   "cell_type": "markdown",
   "metadata": {},
   "source": [
    "  Tracer un triangle équilatéral"
   ]
  },
  {
   "cell_type": "code",
   "execution_count": null,
   "metadata": {},
   "outputs": [],
   "source": []
  },
  {
   "cell_type": "markdown",
   "metadata": {},
   "source": [
    "Octogone !"
   ]
  },
  {
   "cell_type": "code",
   "execution_count": null,
   "metadata": {},
   "outputs": [],
   "source": []
  },
  {
   "cell_type": "markdown",
   "metadata": {},
   "source": [
    "## Fonctions\n",
    " La syntaxe Python pour la définition d’une fonction est la suivante :\n",
    " \n",
    " * def  nom_fonction(liste de paramètres):\n",
    " \n",
    "      bloc d'instructions *"
   ]
  },
  {
   "cell_type": "code",
   "execution_count": null,
   "metadata": {},
   "outputs": [],
   "source": []
  },
  {
   "cell_type": "markdown",
   "metadata": {},
   "source": [
    "Ecriver une fonction qui affiche \"Bonjour je m'appel (votre nom en parametre) j'apprend Python\""
   ]
  },
  {
   "cell_type": "code",
   "execution_count": null,
   "metadata": {},
   "outputs": [],
   "source": []
  }
 ],
 "metadata": {
  "kernelspec": {
   "display_name": "Python 3",
   "language": "python",
   "name": "python3"
  },
  "language_info": {
   "codemirror_mode": {
    "name": "ipython",
    "version": 3
   },
   "file_extension": ".py",
   "mimetype": "text/x-python",
   "name": "python",
   "nbconvert_exporter": "python",
   "pygments_lexer": "ipython3",
   "version": "3.7.3"
  }
 },
 "nbformat": 4,
 "nbformat_minor": 2
}
